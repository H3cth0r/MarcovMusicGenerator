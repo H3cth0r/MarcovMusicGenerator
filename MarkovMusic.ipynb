{
  "nbformat": 4,
  "nbformat_minor": 0,
  "metadata": {
    "colab": {
      "provenance": []
    },
    "kernelspec": {
      "name": "python3",
      "display_name": "Python 3"
    },
    "language_info": {
      "name": "python"
    }
  },
  "cells": [
    {
      "cell_type": "markdown",
      "source": [
        "# Using Markov Chain to Generate Miscal Sequences"
      ],
      "metadata": {
        "id": "0k9vcynzvn9s"
      }
    },
    {
      "cell_type": "code",
      "execution_count": null,
      "metadata": {
        "id": "MxpWsOnqQ4T-"
      },
      "outputs": [],
      "source": [
        "! pip install mido\n",
        "! pip install pretty_midi\n",
        "! pip install winaudio"
      ]
    },
    {
      "cell_type": "markdown",
      "source": [
        "## Downloading Dataset\n",
        "In this block of code, we are downloading a MIDI file named \"Gnossienne_1_Saya_Tomoko-s-gnossie1.mid\" using the wget command. We \"-O\" option to specify the output filename as \"gnossienne.mid\".\n",
        "\n",
        "\n",
        "Erik Satie's melodies are often characterized by their simplicity and minimalistic structure, which contribute to their accessibility and ease of comprehension.\n",
        "\n",
        "The simplicity of Satie's melodies makes them particularly suitable for this Markov chain implementation for melody generation."
      ],
      "metadata": {
        "id": "gaVMn8eOXv3W"
      }
    },
    {
      "cell_type": "code",
      "source": [
        "! wget \"https://websites.umich.edu/~bbowman/midi/satie/Gnossienne_1_Saya_Tomoko-s-gnossie1.mid\" -O gnossienne.mid"
      ],
      "metadata": {
        "id": "ha6vrSPkQ7ob"
      },
      "execution_count": null,
      "outputs": []
    },
    {
      "cell_type": "markdown",
      "source": [
        "## Importing Necessary Modules"
      ],
      "metadata": {
        "id": "bPZRgZcKbu_R"
      }
    },
    {
      "cell_type": "code",
      "source": [
        "import pretty_midi\n",
        "import IPython.display\n",
        "import pandas as pd\n",
        "import numpy as np\n",
        "import matplotlib.pyplot as plt"
      ],
      "metadata": {
        "id": "0orYtQFCq8m5"
      },
      "execution_count": null,
      "outputs": []
    },
    {
      "cell_type": "markdown",
      "source": [
        "## Data Loading\n",
        "\n",
        "We use the pretty_midi library to load a MIDI file named \"gnossienne.mid\" from the specified path into a PrettyMIDI object named pm. This library allows for easy manipulation and analysis of MIDI data."
      ],
      "metadata": {
        "id": "xrHNAYSMb_jN"
      }
    },
    {
      "cell_type": "code",
      "source": [
        "pm = pretty_midi.PrettyMIDI(\"./gnossienne.mid\")"
      ],
      "metadata": {
        "id": "yloNExVIq9ar"
      },
      "execution_count": null,
      "outputs": []
    },
    {
      "cell_type": "markdown",
      "source": [
        "The resulting audio is displayed using IPython.display.Audio, which allows for inline audio playback in Jupyter notebooks."
      ],
      "metadata": {
        "id": "yuD9TOETcYrX"
      }
    },
    {
      "cell_type": "code",
      "source": [
        "fs = 16000\n",
        "IPython.display.Audio(pm.instruments[0].synthesize(fs=fs), rate=fs)"
      ],
      "metadata": {
        "id": "CsiN13eXy7-Y"
      },
      "execution_count": null,
      "outputs": []
    },
    {
      "cell_type": "markdown",
      "source": [
        "We create a dataframe with column names \"start\", \"end\", \"pitch\", \"velocity\" and the values are lists containing the corresponding information extracted from each note."
      ],
      "metadata": {
        "id": "XXvCFrmwcwIC"
      }
    },
    {
      "cell_type": "code",
      "source": [
        "notes = pm.instruments[0].notes\n",
        "df = pd.DataFrame({\n",
        "    \"start\" : [note.start for note in notes],\n",
        "    \"end\" : [note.end for note in notes],\n",
        "    \"pitch\" : [note.pitch for note in notes],\n",
        "    \"velocity\" : [note.velocity for note in notes],\n",
        "})"
      ],
      "metadata": {
        "id": "TffJnbKs2pRo"
      },
      "execution_count": null,
      "outputs": []
    },
    {
      "cell_type": "code",
      "source": [
        "df"
      ],
      "metadata": {
        "id": "nuCb6Uso3RIs"
      },
      "execution_count": null,
      "outputs": []
    },
    {
      "cell_type": "code",
      "source": [
        "print(df)\n",
        "print(df[\"pitch\"].unique())"
      ],
      "metadata": {
        "id": "IIfMSdnm4DP4"
      },
      "execution_count": null,
      "outputs": []
    },
    {
      "cell_type": "markdown",
      "source": [
        "This block of code calculates the average interval and velocity between successive notes in a melody, based on the pitch values. This information is organized into a DataFrame, averages_df, presenting a clear overview of the rhythm and velocity patterns between consecutive notes. This analysis aids in ensuring that the generated sequence, using Markov Chains, maintains a rhythmic coherence."
      ],
      "metadata": {
        "id": "Z0Axlk5mdUL3"
      }
    },
    {
      "cell_type": "code",
      "source": [
        "averages = {}\n",
        "for i in range(len(df) - 1):\n",
        "    prev_pitch = df.iloc[i]['pitch']\n",
        "    curr_pitch = df.iloc[i + 1]['pitch']\n",
        "    start = df.iloc[i]['start']\n",
        "    end = df.iloc[i + 1]['end']\n",
        "    velocity = df.iloc[i]['velocity']\n",
        "\n",
        "    interval = end - start\n",
        "\n",
        "    if (prev_pitch, curr_pitch) not in averages:\n",
        "        averages[(prev_pitch, curr_pitch)] = {'interval': [], 'velocity': []}\n",
        "\n",
        "    averages[(prev_pitch, curr_pitch)]['interval'].append(interval)\n",
        "    averages[(prev_pitch, curr_pitch)]['velocity'].append(velocity)\n",
        "\n",
        "# averages for each combination\n",
        "averages_table = []\n",
        "for key, value in averages.items():\n",
        "    prev_pitch, curr_pitch = key\n",
        "    avg_interval = sum(value['interval']) / len(value['interval'])\n",
        "    avg_velocity = sum(value['velocity']) / len(value['velocity'])\n",
        "    averages_table.append([prev_pitch, curr_pitch, avg_interval, avg_velocity])\n",
        "averages_df = pd.DataFrame(averages_table, columns=['previous_pitch', 'current_pitch', 'avg_interval', 'avg_velocity'])\n",
        "averages_df"
      ],
      "metadata": {
        "id": "xswL1n_NKDuC"
      },
      "execution_count": null,
      "outputs": []
    },
    {
      "cell_type": "code",
      "source": [
        "averages_df.head(10)"
      ],
      "metadata": {
        "id": "b5cCi4JX0aPS"
      },
      "execution_count": null,
      "outputs": []
    },
    {
      "cell_type": "markdown",
      "source": [],
      "metadata": {
        "id": "HjtMPTB_yKqf"
      }
    },
    {
      "cell_type": "markdown",
      "source": [
        "## Design Markov Chain\n",
        "\n",
        "This block of code calculates a transition matrix representing the frequency of transitions between different pitch values. We extract unique pitch values. It initializes a square matrix with dimensions corresponding to the number of unique pitch values. It iterates through the DataFrame to identify successive pairs of pitches, incrementing the corresponding cell in the transition matrix each time a transition occurs."
      ],
      "metadata": {
        "id": "UnKHA3v_5SAS"
      }
    },
    {
      "cell_type": "code",
      "source": [
        "unique_pitches = df[\"pitch\"].unique()\n",
        "n = len(unique_pitches)\n",
        "transition_matrix = np.zeros((n, n))\n",
        "\n",
        "for i in range(len(df) - 1):\n",
        "    pitch_from = df.iloc[i][\"pitch\"]\n",
        "    pitch_to = df.iloc[i + 1][\"pitch\"]\n",
        "    transition_matrix[np.where(unique_pitches == pitch_from), np.where(unique_pitches == pitch_to)] += 1"
      ],
      "metadata": {
        "id": "YXe3b-_0C7cF"
      },
      "execution_count": null,
      "outputs": []
    },
    {
      "cell_type": "markdown",
      "source": [
        "In this code block, a heatmap is being plotted to visualize the transition matrix calculated earlier."
      ],
      "metadata": {
        "id": "M-4_m85QhA8E"
      }
    },
    {
      "cell_type": "code",
      "source": [
        "plt.figure(figsize=(8, 6))\n",
        "plt.imshow(transition_matrix, cmap='Blues')\n",
        "\n",
        "# Add annotations for each cell\n",
        "for i in range(n):\n",
        "    for j in range(n):\n",
        "        plt.text(j, i, '{:.0f}'.format(transition_matrix[i, j]),\n",
        "                 ha='center', va='center', color='black')\n",
        "\n",
        "plt.colorbar()\n",
        "plt.xticks(range(n), unique_pitches, rotation=90)\n",
        "plt.yticks(range(n), unique_pitches)\n",
        "plt.title(\"Matriz de Transición - Frecuencia\")\n",
        "plt.show()"
      ],
      "metadata": {
        "id": "tneHhgKCewoK"
      },
      "execution_count": null,
      "outputs": []
    },
    {
      "cell_type": "markdown",
      "source": [
        "This line of code normalizes the transition matrix along its rows. It divides each element in every row of the transition matrix by the sum of all elements in that row. This normalization ensures that each row of the transition matrix represents a probability distribution, where the sum of probabilities for transitions from a particular pitch to all other pitches adds up to 1."
      ],
      "metadata": {
        "id": "Z3y4uEEehX1R"
      }
    },
    {
      "cell_type": "code",
      "source": [
        "transition_matrix = transition_matrix / transition_matrix.sum(axis=1, keepdims=True)"
      ],
      "metadata": {
        "id": "XUu8kwMuetT3"
      },
      "execution_count": null,
      "outputs": []
    },
    {
      "cell_type": "code",
      "source": [
        "plt.figure(figsize=(8, 6))\n",
        "plt.imshow(transition_matrix, cmap='Blues')\n",
        "# Add annotations for each cell\n",
        "for i in range(n):\n",
        "    for j in range(n):\n",
        "        plt.text(j, i, '{:.2f}'.format(transition_matrix[i, j]),\n",
        "                 ha='center', va='center', color='black')\n",
        "plt.colorbar()\n",
        "plt.xticks(range(n), unique_pitches, rotation=90)\n",
        "plt.yticks(range(n), unique_pitches)\n",
        "plt.title(\"Matriz de Transición - probabilidades\")\n",
        "plt.show()"
      ],
      "metadata": {
        "id": "m9RHJaz9C9LX"
      },
      "execution_count": null,
      "outputs": []
    },
    {
      "cell_type": "markdown",
      "source": [
        "\n",
        "This block of code uses the scipy.stats module to create a discrete random variable representing the pitch distribution observed in the input music sequence. It calculates the frequency of occurrence for each unique pitch in the sequence and creates a discrete random variable (pitch_rv) with pitch values as possible outcomes and their corresponding probabilities based on their frequencies. This random variable encapsulates the pitch distribution of the original music sequence, allowing for the generation of new sequences that mimic its pitch patterns."
      ],
      "metadata": {
        "id": "ADkmV9XHhqVE"
      }
    },
    {
      "cell_type": "code",
      "source": [
        "from scipy.stats import rv_discrete\n",
        "pitch_counts = df[\"pitch\"].value_counts()\n",
        "pitch_rv = rv_discrete(values=(unique_pitches, pitch_counts.values / pitch_counts.sum()))"
      ],
      "metadata": {
        "id": "KxPnUPgnDIHw"
      },
      "execution_count": null,
      "outputs": []
    },
    {
      "cell_type": "markdown",
      "source": [
        "This method generates audio waveforms corresponding to a sequence of musical pitches"
      ],
      "metadata": {
        "id": "EddfJYZcizgS"
      }
    },
    {
      "cell_type": "code",
      "source": [
        "def play_note(pitches, duration=1.0, sample_rate=22050):\n",
        "    tones = []\n",
        "    for pitch in pitches:\n",
        "        freq = 2 ** ((pitch - 49) / 12) * 440\n",
        "        t = np.linspace(0, duration, int(duration * sample_rate), False)\n",
        "        tone = np.sin(2 * np.pi * freq * t)\n",
        "        tones.append(tone)\n",
        "\n",
        "    audio = np.concatenate(tones)\n",
        "    return audio, sample_rate"
      ],
      "metadata": {
        "id": "yN9TFy9jD-_A"
      },
      "execution_count": null,
      "outputs": []
    },
    {
      "cell_type": "markdown",
      "source": [
        "This one creates a PrettyMIDI Instrument object representing a piano and populates it with notes based on a sequence of pitches and average transition information."
      ],
      "metadata": {
        "id": "tFEEWQpqjCsg"
      }
    },
    {
      "cell_type": "code",
      "source": [
        "from pretty_midi import Instrument, Note\n",
        "def play_notes(pitches, df, df_avgs):\n",
        "  my_instrument = Instrument(program=1, is_drum=False, name=\"piano\")\n",
        "  counter_start = 0\n",
        "  current_pitch = pitches[0]\n",
        "  for p_i in range(1, len(pitches[1:])):\n",
        "    row = df_avgs[(df_avgs[\"previous_pitch\"]==current_pitch) & (df_avgs[\"current_pitch\"]==pitches[p_i])]\n",
        "    my_instrument.notes.append(Note(\n",
        "        velocity=row[\"avg_velocity\"].iloc[0],\n",
        "        pitch=current_pitch,\n",
        "        start=counter_start,\n",
        "        end = start + row[\"avg_interval\"].iloc[0]\n",
        "    ))\n",
        "    current_pitch = pitches[p_i]\n",
        "    counter_start += row[\"avg_interval\"].iloc[0]\n",
        "  return my_instrument"
      ],
      "metadata": {
        "id": "NLEKjl5KHjvZ"
      },
      "execution_count": null,
      "outputs": []
    },
    {
      "cell_type": "markdown",
      "source": [
        "This block generates a random initial pitch from the pitch distribution and plays it as audio, displaying the pitch as output."
      ],
      "metadata": {
        "id": "gdKTTZnVjUDI"
      }
    },
    {
      "cell_type": "code",
      "source": [
        "current_pitch = pitch_rv.rvs()\n",
        "print(f\"Nota inicial: {current_pitch}\")\n",
        "audio, sample_rate = play_note([current_pitch])\n",
        "IPython.display.Audio(audio, rate=sample_rate)"
      ],
      "metadata": {
        "id": "QWhPtdTNDtZQ"
      },
      "execution_count": null,
      "outputs": []
    },
    {
      "cell_type": "markdown",
      "source": [
        "This code generates a sequence of pitches by iteratively selecting the next pitch based on the transition probabilities encoded in the transition matrix. It starts with an initial pitch randomly chosen from the pitch distribution. Then, for a specified number of transitions, it probabilistically selects the next pitch based on the transition matrix and adds it to the sequence.\n",
        "\n",
        "- np.where(unique_pitches == current_pitch): finds the index of the current_pitch in the array unique_pitches, returning a tuple with the indices where the condition is met.\n",
        "- transition_matrix[np.where(unique_pitches == current_pitch)][0]:  retrieves the row of the transition matrix corresponding to the transition probabilities from the current pitch to all other pitches.\n",
        "- np.random.multinomial(1, transition_matrix[np.where(unique_pitches == current_pitch)][0]): samples from a multinomial distribution defined by the probabilities in the row obtained. Returns an array with zeros. except for one randomly chosen index, which represents the next pitch to transition to.\n",
        "- .argmax(): returns the index of the maximum value in the array obtained from the previous step, selecting the pitch with the highest transition probability.\n",
        "- unique_pitches: retrieves the corresponding pitch value from the array unique_pitches based on the index of the maximum transition probability obtained. This is the next pitch in the sequence."
      ],
      "metadata": {
        "id": "yt3Knt4IjhHR"
      }
    },
    {
      "cell_type": "code",
      "source": [
        "# generate the sequence of pitches\n",
        "num_transitions = 30\n",
        "current_pitch = pitch_rv.rvs()\n",
        "sequence = [current_pitch]\n",
        "\n",
        "for _ in range(num_transitions):\n",
        "    next_pitch = unique_pitches[np.random.multinomial(1, transition_matrix[np.where(unique_pitches == current_pitch)][0]).argmax()]\n",
        "    sequence.append(next_pitch)\n",
        "    print(f\"Transición: {current_pitch} -> {next_pitch}\")\n",
        "    current_pitch = next_pitch\n",
        "\n",
        "# Play the sequence\n",
        "audio, sample_rate = play_note(sequence)\n",
        "IPython.display.Audio(audio, rate=sample_rate)"
      ],
      "metadata": {
        "id": "hGDWiAUCEw54"
      },
      "execution_count": null,
      "outputs": []
    },
    {
      "cell_type": "markdown",
      "source": [
        "This synthesizes audio from the generated Instrument object at a sampling rate of 25000 Hz using the synthesize method and displays it as an audio output"
      ],
      "metadata": {
        "id": "7NDwuvIjk7kg"
      }
    },
    {
      "cell_type": "code",
      "source": [
        "inst = play_notes(sequence, df, averages_df)\n",
        "IPython.display.Audio(inst.synthesize(fs=25000), rate=25000)"
      ],
      "metadata": {
        "id": "NdXf0Hu-PZOn"
      },
      "execution_count": null,
      "outputs": []
    }
  ]
}